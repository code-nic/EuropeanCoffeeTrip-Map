{
 "cells": [
  {
   "cell_type": "code",
   "execution_count": 2,
   "metadata": {},
   "outputs": [],
   "source": [
    "import json\n",
    "\n",
    "with open('Cafe-Dict.txt', 'r', encoding='utf-8') as file:\n",
    "    cafes = json.load(file)"
   ]
  },
  {
   "cell_type": "code",
   "execution_count": null,
   "metadata": {},
   "outputs": [],
   "source": [
    "#clean up the cafe dictionary -> filter out cafes empty websites \n",
    "filtered_cafes = {}\n",
    "\n",
    "for cafe in cafes:\n",
    "    if cafes[cafe] != [] and cafes[cafe][0] != '':\n",
    "        filtered_cafes[cafe] = cafes[cafe]\n",
    "    \n",
    "for cafe in filtered_cafes:\n",
    "    print(f'{cafe}: {filtered_cafes[cafe]}')"
   ]
  },
  {
   "cell_type": "code",
   "execution_count": 4,
   "metadata": {},
   "outputs": [],
   "source": [
    "cafes = filtered_cafes"
   ]
  },
  {
   "cell_type": "code",
   "execution_count": 7,
   "metadata": {},
   "outputs": [],
   "source": [
    "cafe_geojson = {\n",
    "    \"type\": \"FeatureCollection\",\n",
    "    \"features\": []\n",
    "}\n",
    "\n",
    "for url, data in cafes.items():\n",
    "    if data:\n",
    "        name, address, coordinates, opening_hours = data\n",
    "        feature = {\n",
    "            \"type\": \"Feature\",\n",
    "            \"properties\": {\n",
    "                \"name\": name,\n",
    "                \"description\": f\"{address}\\n\\n{url}\",\n",
    "                \"opening_hours\": opening_hours\n",
    "            },\n",
    "            \"geometry\": {\n",
    "                \"type\": \"Point\",\n",
    "                \"coordinates\": [float(coordinates[0]), float(coordinates[1])]\n",
    "            }\n",
    "        }\n",
    "        cafe_geojson[\"features\"].append(feature)\n",
    "    "
   ]
  },
  {
   "cell_type": "code",
   "execution_count": 8,
   "metadata": {},
   "outputs": [],
   "source": [
    "with open('cafe-geojson_1.json', 'w', encoding='utf-8') as file:\n",
    "    json.dump(cafe_geojson, file, ensure_ascii=False, indent=4)"
   ]
  }
 ],
 "metadata": {
  "kernelspec": {
   "display_name": "Venv",
   "language": "python",
   "name": "python3"
  },
  "language_info": {
   "codemirror_mode": {
    "name": "ipython",
    "version": 3
   },
   "file_extension": ".py",
   "mimetype": "text/x-python",
   "name": "python",
   "nbconvert_exporter": "python",
   "pygments_lexer": "ipython3",
   "version": "3.12.8"
  }
 },
 "nbformat": 4,
 "nbformat_minor": 2
}
